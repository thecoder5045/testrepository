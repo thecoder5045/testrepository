{
 "cells": [
  {
   "cell_type": "markdown",
   "id": "6072ee9d-a8df-415c-9be7-e6ca9f87ba57",
   "metadata": {},
   "source": [
    "# Data Science Tools and Ecosystem"
   ]
  },
  {
   "cell_type": "markdown",
   "id": "2bed4692-4e51-4c13-852a-eb8bb33b706c",
   "metadata": {},
   "source": [
    "In this notebook, Data Science Tools and Ecosystem are summarized "
   ]
  },
  {
   "cell_type": "markdown",
   "id": "62cc0a42-3c67-41c1-a592-f7975f484e6d",
   "metadata": {},
   "source": [
    "Some of the popular languages that Data Scientists use are:\n",
    "1. Python\n",
    "2. R\n",
    "3. SQL\n"
   ]
  },
  {
   "cell_type": "markdown",
   "id": "e750704b-2a9a-406f-b760-6d4927cf5e75",
   "metadata": {},
   "source": [
    "Some of the commonly used libraries used by Data Scientists include:\n",
    "- numpy\n",
    "- matplotlib\n",
    "- pandas "
   ]
  },
  {
   "cell_type": "markdown",
   "id": "310b8b28-2734-447e-8b3f-29e5e744c4ca",
   "metadata": {},
   "source": [
    "|Data Science Tools|\n",
    "--------------------\n",
    "|Jupyter|\n",
    "|Anaconda|\n",
    "|VSCode|"
   ]
  },
  {
   "cell_type": "markdown",
   "id": "71555124-e8c6-403f-9b7d-6965cae919ef",
   "metadata": {},
   "source": [
    "### Below are a few examples of evaluating arithmetic expression in Python "
   ]
  },
  {
   "cell_type": "code",
   "execution_count": 2,
   "id": "e449f336-7560-4a9d-9ad0-b78e06de8624",
   "metadata": {
    "tags": []
   },
   "outputs": [
    {
     "data": {
      "text/plain": [
       "17"
      ]
     },
     "execution_count": 2,
     "metadata": {},
     "output_type": "execute_result"
    }
   ],
   "source": [
    "# This a simple arithmetic expression to multiply then add integers\n",
    "(3*4)+5"
   ]
  },
  {
   "cell_type": "code",
   "execution_count": 3,
   "id": "aab74f48-7fdf-4630-ae29-4022f6ff629e",
   "metadata": {
    "tags": []
   },
   "outputs": [
    {
     "data": {
      "text/plain": [
       "3.3333333333333335"
      ]
     },
     "execution_count": 3,
     "metadata": {},
     "output_type": "execute_result"
    }
   ],
   "source": [
    "# This will convert 200 minutes to hours by dividing by 60 \n",
    "200 / 60"
   ]
  },
  {
   "cell_type": "markdown",
   "id": "d5b94063-b146-4cbd-bf0c-8e14a5bc2870",
   "metadata": {},
   "source": [
    "Objectives: \n",
    "* Create a Jupyter Notebook\n",
    "* Create a cod cell to convert minutes to hours\n",
    "* Create a code cell to multiply and add numbers\n",
    "* Create a markdown cell introducing arithmetic expression examples\n"
   ]
  },
  {
   "cell_type": "markdown",
   "id": "f31c18d5-174a-483e-afca-c747f01b47bb",
   "metadata": {
    "tags": []
   },
   "source": [
    "## Author\n",
    "Justin \n"
   ]
  },
  {
   "cell_type": "code",
   "execution_count": null,
   "id": "7831310e-0ca0-4aa9-aeb4-6103d3159cc4",
   "metadata": {},
   "outputs": [],
   "source": []
  }
 ],
 "metadata": {
  "kernelspec": {
   "display_name": "Python",
   "language": "python",
   "name": "conda-env-python-py"
  },
  "language_info": {
   "codemirror_mode": {
    "name": "ipython",
    "version": 3
   },
   "file_extension": ".py",
   "mimetype": "text/x-python",
   "name": "python",
   "nbconvert_exporter": "python",
   "pygments_lexer": "ipython3",
   "version": "3.7.12"
  }
 },
 "nbformat": 4,
 "nbformat_minor": 5
}
